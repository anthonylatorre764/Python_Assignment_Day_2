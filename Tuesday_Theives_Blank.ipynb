{
 "cells": [
  {
   "cell_type": "markdown",
   "metadata": {},
   "source": [
    "# Functions, Scoping, Data Collections 1 & List Comprehensions"
   ]
  },
  {
   "attachments": {},
   "cell_type": "markdown",
   "metadata": {},
   "source": [
    "## Tasks Today:\n",
    "\n",
    "1) String Manipulation <br>\n",
    " &nbsp;&nbsp;&nbsp;&nbsp; a) strip() <br>\n",
    " &nbsp;&nbsp;&nbsp;&nbsp; b) title() <br>\n",
    "1) Working With Lists <br>\n",
    " &nbsp;&nbsp;&nbsp;&nbsp; a) min() <br>\n",
    " &nbsp;&nbsp;&nbsp;&nbsp; b) max() <br>\n",
    " &nbsp;&nbsp;&nbsp;&nbsp; c) sum() <br>\n",
    " &nbsp;&nbsp;&nbsp;&nbsp; d) sort() <br>\n",
    " &nbsp;&nbsp;&nbsp;&nbsp; e) Copying a List <br>\n",
    " &nbsp;&nbsp;&nbsp;&nbsp; i) Checking an Empty List <br>\n",
    " &nbsp;&nbsp;&nbsp;&nbsp; j) Removing Instances with a Loop <br>\n",
    "1) List Comprehensions <br>\n",
    "2) Tuples <br>\n",
    " &nbsp;&nbsp;&nbsp;&nbsp; a) sorted() <br>\n",
    "1) Functions <br>\n",
    " &nbsp;&nbsp;&nbsp;&nbsp; a) User-Defined vs. Built-In Functions <br>\n",
    " &nbsp;&nbsp;&nbsp;&nbsp; b) Accepting Parameters <br>\n",
    " &nbsp;&nbsp;&nbsp;&nbsp; c) Default Parameters <br>\n",
    " &nbsp;&nbsp;&nbsp;&nbsp; d) Making an Argument Optional <br>\n",
    " &nbsp;&nbsp;&nbsp;&nbsp; e) Keyword Arguments <br>\n",
    " &nbsp;&nbsp;&nbsp;&nbsp; f) Returning Values <br>\n",
    " &nbsp;&nbsp;&nbsp;&nbsp; g) *args & **kwargs<br>\n",
    " &nbsp;&nbsp;&nbsp;&nbsp; h) Docstring <br>\n",
    " &nbsp;&nbsp;&nbsp;&nbsp; i) Using a User Function in a Loop <br>\n",
    "1) Scope"
   ]
  },
  {
   "cell_type": "markdown",
   "metadata": {},
   "source": [
    "### String Manipulation"
   ]
  },
  {
   "attachments": {},
   "cell_type": "markdown",
   "metadata": {},
   "source": [
    "##### .lstrip() - Remove spaces on the left side of the string"
   ]
  },
  {
   "cell_type": "code",
   "execution_count": 5,
   "metadata": {},
   "outputs": [
    {
     "name": "stdout",
     "output_type": "stream",
     "text": [
      "           this text\n",
      "ext\n"
     ]
    }
   ],
   "source": [
    "# string.lstrip()\n",
    "# can pass argument to specify what characters to strip \n",
    "# works out of place\n",
    "\n",
    "txt = '           this text'\n",
    "print(txt)\n",
    "\n",
    "new_txt = txt.lstrip(' this')\n",
    "print(new_txt)\n",
    "\n"
   ]
  },
  {
   "attachments": {},
   "cell_type": "markdown",
   "metadata": {},
   "source": [
    "##### .rstrip() - Remove spaces on the right side of the string"
   ]
  },
  {
   "cell_type": "code",
   "execution_count": 6,
   "metadata": {},
   "outputs": [
    {
     "name": "stdout",
     "output_type": "stream",
     "text": [
      "txt\n"
     ]
    }
   ],
   "source": [
    "# string.rstrip()\n",
    "\n",
    "txt = 'txt            /'\n",
    "\n",
    "new_txt = txt.rstrip(' /')\n",
    "print(new_txt)"
   ]
  },
  {
   "attachments": {},
   "cell_type": "markdown",
   "metadata": {},
   "source": [
    "##### .strip() - Remove spaces at the beginning and at the end of the string"
   ]
  },
  {
   "cell_type": "code",
   "execution_count": 7,
   "metadata": {},
   "outputs": [
    {
     "name": "stdout",
     "output_type": "stream",
     "text": [
      "             txt          /\n",
      "txt\n"
     ]
    }
   ],
   "source": [
    "# string.strip()\n",
    "\n",
    "txt = '             txt          /'\n",
    "\n",
    "print(txt)\n",
    "new_txt = txt.strip(' /')\n",
    "print(new_txt)"
   ]
  },
  {
   "attachments": {},
   "cell_type": "markdown",
   "metadata": {},
   "source": [
    "##### .title() - returns a string where the first character in every word is upper case"
   ]
  },
  {
   "cell_type": "code",
   "execution_count": 8,
   "metadata": {},
   "outputs": [
    {
     "name": "stdout",
     "output_type": "stream",
     "text": [
      "This Wont Be Lower Case For Long\n"
     ]
    }
   ],
   "source": [
    "# string.title()\n",
    "\n",
    "txt = 'this wont be lower case for long'\n",
    "\n",
    "new_txt = txt.title()\n",
    "\n",
    "print(new_txt)"
   ]
  },
  {
   "cell_type": "markdown",
   "metadata": {},
   "source": [
    "### String Exercise <br>\n",
    "<p>Strip all white space and capitalize every name in the list given</p>"
   ]
  },
  {
   "cell_type": "code",
   "execution_count": 11,
   "metadata": {},
   "outputs": [
    {
     "name": "stdout",
     "output_type": "stream",
     "text": [
      "Connor\n",
      "Max\n",
      "Evan\n",
      "Jordan\n"
     ]
    }
   ],
   "source": [
    "names = ['    coNNor', 'max', ' EVan ', 'JORDAN']\n",
    "# HINT: You will need to use a for loop for iteration\n",
    "# you can stack methods\n",
    "\n",
    "for name in names:\n",
    "    new_name = name.strip().title()\n",
    "    print(new_name)\n"
   ]
  },
  {
   "cell_type": "markdown",
   "metadata": {},
   "source": [
    "### Working With Lists"
   ]
  },
  {
   "attachments": {},
   "cell_type": "markdown",
   "metadata": {},
   "source": [
    "##### min() - returns the item with the lowest value, or the item with the lowest value in an iterable."
   ]
  },
  {
   "cell_type": "code",
   "execution_count": 12,
   "metadata": {},
   "outputs": [
    {
     "name": "stdout",
     "output_type": "stream",
     "text": [
      "1\n"
     ]
    }
   ],
   "source": [
    "# min(list)\n",
    "# Avoid using built-ins when naming variables\n",
    "\n",
    "nums = [1, 32, 5, 11, 54, 80]\n",
    "\n",
    "lowest = min(nums)\n",
    "\n",
    "print(lowest)"
   ]
  },
  {
   "attachments": {},
   "cell_type": "markdown",
   "metadata": {},
   "source": [
    "##### max() - returns the item with the highest value, or the item with the highest value in an iterable."
   ]
  },
  {
   "cell_type": "code",
   "execution_count": 13,
   "metadata": {},
   "outputs": [
    {
     "name": "stdout",
     "output_type": "stream",
     "text": [
      "80\n"
     ]
    }
   ],
   "source": [
    "# max(list)\n",
    "\n",
    "my_max = max(nums)\n",
    "print(my_max)"
   ]
  },
  {
   "attachments": {},
   "cell_type": "markdown",
   "metadata": {},
   "source": [
    "##### sum() - returns a number, the sum of all items in an iterable."
   ]
  },
  {
   "cell_type": "code",
   "execution_count": 15,
   "metadata": {},
   "outputs": [
    {
     "name": "stdout",
     "output_type": "stream",
     "text": [
      "183\n"
     ]
    }
   ],
   "source": [
    "# sum(list)\n",
    "\n",
    "total = sum(nums)\n",
    "print(total)"
   ]
  },
  {
   "attachments": {},
   "cell_type": "markdown",
   "metadata": {},
   "source": [
    "##### sorted() - returns a sorted list of the specified iterable object."
   ]
  },
  {
   "cell_type": "code",
   "execution_count": 21,
   "metadata": {},
   "outputs": [
    {
     "name": "stdout",
     "output_type": "stream",
     "text": [
      "[1, 5, 11, 32, 54, 80]\n",
      "[80, 54, 32, 11, 5, 1]\n"
     ]
    }
   ],
   "source": [
    "# sorted(list)\n",
    "# sorted does not effect the original list, it returns a copy\n",
    "# can pass argument to reverse sorted order\n",
    "# works out of place\n",
    "\n",
    "\n",
    "sorted_nums = sorted(nums)\n",
    "\n",
    "print(sorted_nums)\n",
    "\n",
    "\n",
    "sorted_nums = sorted(nums, reverse = True)\n",
    "\n",
    "print(sorted_nums)\n"
   ]
  },
  {
   "cell_type": "markdown",
   "metadata": {},
   "source": [
    "##### .sort() <br>\n",
    "<p>Difference between sort and sorted, is that sorted doesn't change original list it returns a copy, while .sort changes the original list</p>"
   ]
  },
  {
   "cell_type": "code",
   "execution_count": 22,
   "metadata": {},
   "outputs": [
    {
     "name": "stdout",
     "output_type": "stream",
     "text": [
      "[4, 9, 50, 93, 332]\n"
     ]
    }
   ],
   "source": [
    "# list.sort()\n",
    "# use sorted when you don't want to alter original list, use .sort() when you want to alter original list\n",
    "\n",
    "new_nums = [4, 93, 332, 50, 9]\n",
    "\n",
    "new_nums.sort()\n",
    "\n",
    "print(new_nums)"
   ]
  },
  {
   "cell_type": "markdown",
   "metadata": {},
   "source": [
    "##### Copying a List"
   ]
  },
  {
   "cell_type": "code",
   "execution_count": 26,
   "metadata": {},
   "outputs": [
    {
     "name": "stdout",
     "output_type": "stream",
     "text": [
      "['Caden', 'Kasey', 'William', 'Tristyn']\n",
      "['Caden', 'Kasey', 'William', 'Tristyn']\n"
     ]
    }
   ],
   "source": [
    "# [:] copies a list, doesn't alter original\n",
    "# .copy() method\n",
    "\n",
    "students = ['Caden', 'Kasey', 'William', 'Tristyn']\n",
    "copy_stu = students\n",
    "\n",
    "#print(copy_stu)\n",
    "#copy_stu.pop()\n",
    "#print(copy_stu)\n",
    "#print(students)\n",
    "\n",
    "#1\n",
    "slice_stu = students[:]\n",
    "print(slice_stu)\n",
    "\n",
    "#2\n",
    "method_stu = students.copy()\n",
    "print(method_stu)\n"
   ]
  },
  {
   "cell_type": "markdown",
   "metadata": {},
   "source": [
    "##### Checking an Empty List"
   ]
  },
  {
   "cell_type": "code",
   "execution_count": 27,
   "metadata": {},
   "outputs": [
    {
     "name": "stdout",
     "output_type": "stream",
     "text": [
      "no stuff here\n"
     ]
    }
   ],
   "source": [
    "# if list1: or if list1 == []:\n",
    "# if list1 is True or contains values\n",
    "\n",
    "list1 = []\n",
    "list2 = ['Sean B', 'Rhianna', 'Gabe']\n",
    "\n",
    "if list1:\n",
    "    print('i have stuff')\n",
    "else:\n",
    "    print('no stuff here')"
   ]
  },
  {
   "cell_type": "markdown",
   "metadata": {},
   "source": [
    "##### Removing Instances with a Loop"
   ]
  },
  {
   "cell_type": "code",
   "execution_count": 31,
   "metadata": {},
   "outputs": [
    {
     "ename": "NameError",
     "evalue": "name 'student' is not defined",
     "output_type": "error",
     "traceback": [
      "\u001b[0;31m---------------------------------------------------------------------------\u001b[0m",
      "\u001b[0;31mNameError\u001b[0m                                 Traceback (most recent call last)",
      "Cell \u001b[0;32mIn[31], line 12\u001b[0m\n\u001b[1;32m      6\u001b[0m \u001b[39m#while 'Dylan' in students:\u001b[39;00m\n\u001b[1;32m      7\u001b[0m \u001b[39m#    students.remove('Dylan')\u001b[39;00m\n\u001b[1;32m      8\u001b[0m \u001b[39m#\u001b[39;00m\n\u001b[1;32m      9\u001b[0m \u001b[39m#print(students)\u001b[39;00m\n\u001b[1;32m     11\u001b[0m \u001b[39mfor\u001b[39;00m students \u001b[39min\u001b[39;00m students:\n\u001b[0;32m---> 12\u001b[0m     \u001b[39mprint\u001b[39m(student)\n\u001b[1;32m     13\u001b[0m     \u001b[39mif\u001b[39;00m student \u001b[39m==\u001b[39m \u001b[39m'\u001b[39m\u001b[39mDylan\u001b[39m\u001b[39m'\u001b[39m:\n\u001b[1;32m     14\u001b[0m         students\u001b[39m.\u001b[39mremove(\u001b[39m'\u001b[39m\u001b[39mDylan\u001b[39m\u001b[39m'\u001b[39m)\n",
      "\u001b[0;31mNameError\u001b[0m: name 'student' is not defined"
     ]
    }
   ],
   "source": [
    "# while & for, remove\n",
    "# removes first instance of 'Dylan'\n",
    "students = ['Dennis', 'Dylan', 'Cameron', 'SJ', 'Mason', 'Dylan']\n",
    "\n",
    "\n",
    "#while 'Dylan' in students:\n",
    "#    students.remove('Dylan')\n",
    "#\n",
    "#print(students)\n",
    "\n",
    "for students in students:\n",
    "    print(student)\n",
    "    if student == 'Dylan':\n",
    "        students.remove('Dylan')\n",
    "\n",
    "print(students)"
   ]
  },
  {
   "cell_type": "markdown",
   "metadata": {},
   "source": [
    "### List Exercise <br>\n",
    "<p>Remove all duplicates<br><b>Extra: Create a program that will remove any duplicates from a given list</b></p>"
   ]
  },
  {
   "cell_type": "code",
   "execution_count": 34,
   "metadata": {},
   "outputs": [
    {
     "name": "stdout",
     "output_type": "stream",
     "text": [
      "['connor', 'bob', 'evan', 'max', 2, 3, 4, 'kevin']\n"
     ]
    }
   ],
   "source": [
    "names = ['connor', 'connor', 'bob', 'connor', 'evan', 'max', 'evan', 2, 2, 2, 3, 3, 4, 'bob', 'kevin']\n",
    "# Hint 1: You will need an append\n",
    "# Hint 2: Using an empty list will make life easier\n",
    "\n",
    "\n",
    "single_names = []\n",
    "\n",
    "for name in names:\n",
    "    if name not in single_names:\n",
    "        single_names.append(name)\n",
    "\n",
    "print(single_names)\n",
    "\n",
    "\n"
   ]
  },
  {
   "attachments": {},
   "cell_type": "markdown",
   "metadata": {},
   "source": [
    "#### List Comprehension - offers a shorter syntax when you want to create a new list based on the values of an existing list."
   ]
  },
  {
   "attachments": {},
   "cell_type": "markdown",
   "metadata": {},
   "source": [
    "#### Syntax - newlist = [expression for item in iterable if condition == True]\n",
    "##### The return value is a new list, leaving the old list unchanged.\n",
    "##### The condition is like a filter that only accepts the items that valuate to True."
   ]
  },
  {
   "cell_type": "code",
   "execution_count": 38,
   "metadata": {},
   "outputs": [
    {
     "name": "stdout",
     "output_type": "stream",
     "text": [
      "[0, 1, 2, 3, 4, 5, 6, 7, 8, 9]\n",
      "['Ant', 'Ant', 'Ant', 'Ant', 'Ant', 'Ant', 'Ant', 'Ant', 'Ant', 'Ant']\n"
     ]
    }
   ],
   "source": [
    "# number list comprehension\n",
    "\n",
    "# With a regular for loop\n",
    "new_list = []\n",
    "for num in range(10):\n",
    "    new_list.append(num)\n",
    "\n",
    "print(new_list)\n",
    "\n",
    "\n",
    "# List Comprehension\n",
    "\n",
    "#var = [add this for each item in a list]\n",
    "list_comp = ['Ant' for num in range(10)]\n",
    "\n",
    "print(list_comp)"
   ]
  },
  {
   "attachments": {},
   "cell_type": "markdown",
   "metadata": {},
   "source": [
    "There are a few benefits to using List comprehensions. The most obvious would be that we now have shorter code to work with instead of using 3+ lines of code in the for loop variant.\n",
    "\n",
    "More time-efficient and space-efficient than loops.\n",
    "\n",
    "Lastly, list comprehensions are considered the \"pythonic\" way to write code."
   ]
  },
  {
   "cell_type": "code",
   "execution_count": 40,
   "metadata": {},
   "outputs": [
    {
     "name": "stdout",
     "output_type": "stream",
     "text": [
      "[0, 1, 4, 9, 16, 25, 36, 49, 64, 81]\n",
      "[0, 1, 4, 9, 16, 25, 36, 49, 64, 81]\n"
     ]
    }
   ],
   "source": [
    "# square number list comprehension\n",
    "\n",
    "# With a reg for loop\n",
    "\n",
    "new_list = []\n",
    "\n",
    "for num in range(10):\n",
    "    new_list.append(num**2)\n",
    "\n",
    "print(new_list)\n",
    "\n",
    "\n",
    "# List Comprehension\n",
    "\n",
    "list_comp = [num**2 for num in range(10)]\n",
    "\n",
    "print(list_comp)\n"
   ]
  },
  {
   "cell_type": "code",
   "execution_count": 42,
   "metadata": {},
   "outputs": [
    {
     "name": "stdout",
     "output_type": "stream",
     "text": [
      "['D', 'C', 'S', 'M', 'D']\n",
      "['D', 'C', 'S', 'M', 'D']\n"
     ]
    }
   ],
   "source": [
    "# string list comprehension\n",
    "students = ['Dennis', 'Cameron', 'SJ', 'Mason', 'Dylan']\n",
    "\n",
    "# With a reg for loop\n",
    "\n",
    "\n",
    "first_char = []\n",
    "for name in students:\n",
    "    first_char.append(name[0])\n",
    "\n",
    "print(first_char)\n",
    "\n",
    "\n",
    "# List Comprehension\n",
    "\n",
    "list_comp = [name[0] for name in students]\n",
    "print(list_comp)\n"
   ]
  },
  {
   "attachments": {},
   "cell_type": "markdown",
   "metadata": {},
   "source": [
    "### Tuples - Collection which is ordered, unchangeable, and allow duplicate values."
   ]
  },
  {
   "cell_type": "code",
   "execution_count": 47,
   "metadata": {},
   "outputs": [
    {
     "name": "stdout",
     "output_type": "stream",
     "text": [
      "[500, 4523, 254]\n",
      "123\n",
      "345\n",
      "678\n"
     ]
    }
   ],
   "source": [
    "# () means a tuple\n",
    "# cannot assign new items in a tuple\n",
    "\n",
    "codes = (123, 345, 678)\n",
    "codes2 = [342,4523,254]\n",
    "\n",
    "# print(type(codes))\n",
    "# print(type(codes2))\n",
    "\n",
    "codes2[0] = 500\n",
    "print(codes2)\n",
    "\n",
    "\n",
    "# for loop with tuple\n",
    "for num in codes:\n",
    "    print(num)\n"
   ]
  },
  {
   "cell_type": "markdown",
   "metadata": {},
   "source": [
    "##### sorted()"
   ]
  },
  {
   "cell_type": "code",
   "execution_count": 48,
   "metadata": {},
   "outputs": [
    {
     "name": "stdout",
     "output_type": "stream",
     "text": [
      "(10, 49, 55, 92)\n"
     ]
    }
   ],
   "source": [
    "codes = (49, 92, 55, 10)\n",
    "\n",
    "# sorted() returns a list\n",
    "new_codes = sorted(codes)\n",
    "\n",
    "print(tuple(new_codes))"
   ]
  },
  {
   "cell_type": "markdown",
   "metadata": {},
   "source": [
    "##### Adding values to a Tuple"
   ]
  },
  {
   "cell_type": "code",
   "execution_count": 52,
   "metadata": {},
   "outputs": [
    {
     "name": "stdout",
     "output_type": "stream",
     "text": [
      "(49, 92, 55, 10, 1)\n"
     ]
    }
   ],
   "source": [
    "these_codes = codes + (1,)\n",
    "\n",
    "print(these_codes)"
   ]
  },
  {
   "cell_type": "markdown",
   "metadata": {},
   "source": [
    "## Functions"
   ]
  },
  {
   "cell_type": "markdown",
   "metadata": {},
   "source": [
    "##### User-Defined vs. Built-In Functions"
   ]
  },
  {
   "cell_type": "code",
   "execution_count": 54,
   "metadata": {},
   "outputs": [
    {
     "name": "stdout",
     "output_type": "stream",
     "text": [
      "<function greetings at 0x114939580>\n",
      "Hello Everyone\n"
     ]
    }
   ],
   "source": [
    "#User-defined\n",
    "def greetings():\n",
    "    return 'Hello Everyone'\n",
    "\n",
    "#Built-In print, showing the function in memory\n",
    "print(greetings)\n",
    "\n",
    "#Built-in print, calling the function\n",
    "print(greetings())"
   ]
  },
  {
   "cell_type": "markdown",
   "metadata": {},
   "source": [
    "##### Accepting Parameters"
   ]
  },
  {
   "cell_type": "code",
   "execution_count": 56,
   "metadata": {},
   "outputs": [
    {
     "name": "stdout",
     "output_type": "stream",
     "text": [
      "Full Name: Dylan Katina\n",
      "Full Name: Katina Dylan\n",
      "Full Name: Dylan Katina\n"
     ]
    }
   ],
   "source": [
    "# Order matters\n",
    "# A variable can be of any type of object\n",
    "def full_name(first_name, last_name):\n",
    "    return f'Full Name: {first_name} {last_name}'\n",
    "\n",
    "print(full_name('Dylan', 'Katina'))\n",
    "print(full_name('Katina', 'Dylan'))\n",
    "print(full_name(last_name='Katina', first_name='Dylan'))"
   ]
  },
  {
   "cell_type": "markdown",
   "metadata": {},
   "source": [
    "##### Default Parameters"
   ]
  },
  {
   "cell_type": "code",
   "execution_count": 59,
   "metadata": {},
   "outputs": [
    {
     "name": "stdout",
     "output_type": "stream",
     "text": [
      "The class Thieves is taught by Christian and Dylan\n"
     ]
    }
   ],
   "source": [
    "# default parameters need to be AFTER non-default parameters at all times\n",
    "\n",
    "def class_info(ins1, ins2, cohort='Thieves'):\n",
    "    return f'The class {cohort} is taught by {ins1} and {ins2}'\n",
    "\n",
    "print(class_info('Christian', 'Dylan'))\n"
   ]
  },
  {
   "cell_type": "markdown",
   "metadata": {},
   "source": [
    "##### Making an Argument Optional"
   ]
  },
  {
   "cell_type": "code",
   "execution_count": 65,
   "metadata": {},
   "outputs": [
    {
     "name": "stdout",
     "output_type": "stream",
     "text": [
      "Hello, you can call me Dylan Katina\n"
     ]
    }
   ],
   "source": [
    "def nickname(first, last, nickname=''):\n",
    "    return f'Hello, you can call me {first}{\" \" if nickname else \"\"}{nickname} {last}'\n",
    "\n",
    "print(nickname('Dylan', 'Katina'))"
   ]
  },
  {
   "cell_type": "markdown",
   "metadata": {},
   "source": [
    "# Creating a start, stop, step function"
   ]
  },
  {
   "cell_type": "code",
   "execution_count": 70,
   "metadata": {},
   "outputs": [
    {
     "name": "stdout",
     "output_type": "stream",
     "text": [
      "[5, 7, 9]\n"
     ]
    }
   ],
   "source": [
    "def my_range(stop, start=0, step=1):\n",
    "    for num in range(start, stop, step):\n",
    "        print(num)\n",
    "\n",
    "\n",
    "def my_range(stop, start=0, step=1):\n",
    "    output = []\n",
    "    for num in range(start, stop, step):\n",
    "        output.append(num)\n",
    "    return(output)\n",
    "\n",
    "print(my_range(10,5,2))"
   ]
  },
  {
   "cell_type": "markdown",
   "metadata": {},
   "source": [
    "##### Returning Values"
   ]
  },
  {
   "cell_type": "code",
   "execution_count": 71,
   "metadata": {},
   "outputs": [
    {
     "name": "stdout",
     "output_type": "stream",
     "text": [
      "15\n"
     ]
    }
   ],
   "source": [
    "# see above\n",
    "\n",
    "def adding(x,y):\n",
    "    return x + y\n",
    "\n",
    "total = adding(5,10)\n",
    "\n",
    "print(total)"
   ]
  },
  {
   "attachments": {},
   "cell_type": "markdown",
   "metadata": {},
   "source": [
    "##### *args/**kwargs (A.K.A. KeyWord Arguments)##### *args"
   ]
  },
  {
   "cell_type": "code",
   "execution_count": 72,
   "metadata": {},
   "outputs": [
    {
     "name": "stdout",
     "output_type": "stream",
     "text": [
      "This class is taught by {ins1} and {ins2}\n",
      "--------- Students ----------\n",
      "['Dennis', 'Cameron', 'SJ', 'Mason', 'Dylan']\n",
      "['Dennis', 'Cameron', 'SJ', 'Mason', 'Dylan']\n",
      "['Dennis', 'Cameron', 'SJ', 'Mason', 'Dylan']\n",
      "['Dennis', 'Cameron', 'SJ', 'Mason', 'Dylan']\n",
      "['Dennis', 'Cameron', 'SJ', 'Mason', 'Dylan']\n"
     ]
    }
   ],
   "source": [
    "# *args = unlimited amount of arguments, function stores as tuple\n",
    "# **kwargs = unlimited amount of keyword arguments, function stores as dictionary\n",
    "\n",
    "def thieves(ins1, ins2, *student):\n",
    "    print('This class is taught by {ins1} and {ins2}')\n",
    "\n",
    "    print('--------- Students ----------')\n",
    "\n",
    "    for student in students:\n",
    "        print(students)\n",
    "\n",
    "thieves(\"Chirstian\", \"Dylan\", \"Anthony\", \"Kevin\", \"Peace\", \"Nicole\")\n",
    "\n",
    "def routine(person, **routine):\n",
    "    print('Hi my name is {person} this is my daily routine')\n",
    "    print(routine)\n",
    "\n",
    "print(routine('Dylan', morning='wake up and eat breakfast', miday='eat lunch', evening='eat dinner'))\n",
    "print(routine('Christian', morning=''))"
   ]
  },
  {
   "attachments": {},
   "cell_type": "markdown",
   "metadata": {},
   "source": [
    "##### Docstring - Multi-line Comment"
   ]
  },
  {
   "cell_type": "code",
   "execution_count": 73,
   "metadata": {},
   "outputs": [
    {
     "name": "stdout",
     "output_type": "stream",
     "text": [
      "Hello, my name is Dylan, nice to meet you!\n",
      "Help on function say_hello in module __main__:\n",
      "\n",
      "say_hello(name)\n",
      "    This function takes in the name of a person\n",
      "    and it offers a warm greeting\n",
      "\n"
     ]
    }
   ],
   "source": [
    "# Allows you to write documentation for user-defined functions\n",
    "# Good Practice!\n",
    "\n",
    "def say_hello(name):\n",
    "    '''\n",
    "        This function takes in the name of a person\n",
    "        and it offers a warm greeting\n",
    "    '''\n",
    "    return f\"Hello, my name is {name}, nice to meet you!\"\n",
    "\n",
    "print(say_hello('Dylan'))\n",
    "\n",
    "help(say_hello)"
   ]
  },
  {
   "cell_type": "markdown",
   "metadata": {},
   "source": [
    "##### Using a User Function in a Loop"
   ]
  },
  {
   "cell_type": "code",
   "execution_count": 74,
   "metadata": {},
   "outputs": [
    {
     "name": "stdout",
     "output_type": "stream",
     "text": [
      "0\n",
      "1\n",
      "2\n",
      "3\n",
      "4\n",
      "5\n",
      "6\n",
      "7\n",
      "8\n",
      "9\n"
     ]
    }
   ],
   "source": [
    "def addone(num):\n",
    "    return(num + 1)\n",
    "\n",
    "i = 0\n",
    "while i < 10:\n",
    "    print(i)\n",
    "    i = addone(i)"
   ]
  },
  {
   "cell_type": "markdown",
   "metadata": {},
   "source": [
    "## Function Exercise <br>\n",
    "<p>Write a function that loops through a list of first_names and a list of last_names, combines the two and return a list of full_names</p>"
   ]
  },
  {
   "cell_type": "code",
   "execution_count": 77,
   "metadata": {},
   "outputs": [
    {
     "name": "stdout",
     "output_type": "stream",
     "text": [
      "range(0, 4)\n",
      "0\n",
      "John\n",
      "Smith\n",
      "1\n",
      "Evan\n",
      "Smith\n",
      "2\n",
      "Jordan\n",
      "Williams\n",
      "3\n",
      "Max\n",
      "Bell\n",
      "['John Smith', 'Evan Smith', 'Jordan Williams', 'Max Bell']\n"
     ]
    }
   ],
   "source": [
    "first_name = ['John', 'Evan', 'Jordan', 'Max']\n",
    "last_name = ['Smith', 'Smith', 'Williams', 'Bell']\n",
    "\n",
    "# Output: ['John Smith', 'Evan Smith', 'Jordan Williams', 'Max Bell']\n",
    "\n",
    "\n",
    "print(range(len(first_name)))\n",
    "\n",
    "def get_full_names(first, last):\n",
    "\n",
    "    output = []\n",
    "    for index in range(len(first_name)):\n",
    "        print(index)\n",
    "        print(first[index])\n",
    "        print(last[index])\n",
    "        output.append(f\"{first[index]} {last[index]}\")\n",
    "\n",
    "    return(output)\n",
    "\n",
    "print(get_full_names(first_name, last_name))"
   ]
  },
  {
   "attachments": {},
   "cell_type": "markdown",
   "metadata": {},
   "source": [
    "## Scope <br>\n",
    "<p>Scope refers to the ability to access variables, different types of scope include:<br>a) Global<br>b) Function (local)</p>"
   ]
  },
  {
   "cell_type": "code",
   "execution_count": 85,
   "metadata": {},
   "outputs": [
    {
     "name": "stdout",
     "output_type": "stream",
     "text": [
      "12\n",
      "10\n"
     ]
    }
   ],
   "source": [
    "# Global\n",
    "number = 10     # global variable\n",
    "\n",
    "\n",
    "# Local\n",
    "\n",
    "def log_num():\n",
    "    number1 = 2 + number            # number1 is a local variable\n",
    "    print(number1)\n",
    "    print(number)\n",
    "    return(2)\n",
    "\n",
    "# print(number1)                    # number1 can't be referenced outside of function definition\n",
    "\n",
    "log_num()\n",
    "random = 'something'"
   ]
  },
  {
   "cell_type": "markdown",
   "metadata": {},
   "source": [
    "# Exercises"
   ]
  },
  {
   "cell_type": "markdown",
   "metadata": {},
   "source": [
    "## Exercise 1 <br>\n",
    "<p>Given a list as a parameter,write a function that returns a list of numbers that are less than ten</b></i></p><br>\n",
    "<p> For example: Say your input parameter to the function is [1,11,14,5,8,9]...Your output should [1,5,8,9]</p>"
   ]
  },
  {
   "cell_type": "code",
   "execution_count": 9,
   "metadata": {},
   "outputs": [
    {
     "name": "stdout",
     "output_type": "stream",
     "text": [
      "[1, 5, 8, 9]\n"
     ]
    }
   ],
   "source": [
    "# Use the following list - [1,11,14,5,8,9]\n",
    "\n",
    "list = [1,11,14,5,8,9]\n",
    "\n",
    "\n",
    "\n",
    "def less_than_ten(list_1):\n",
    "    \"\"\"\n",
    "        Takes in a list and returns a list containing values less than 10.\n",
    "    \"\"\"\n",
    "    list_2 = []\n",
    "\n",
    "    for num in list_1:\n",
    "        if num < 10:\n",
    "            list_2.append(num)\n",
    "\n",
    "    return list_2\n",
    "\n",
    "\n",
    "print(less_than_ten(list))\n",
    "\n"
   ]
  },
  {
   "cell_type": "markdown",
   "metadata": {},
   "source": [
    "## Exercise 2 <br>\n",
    "<p>Write a function that takes in two lists and returns the two lists merged together and sorted<br>\n",
    "<b><i>Hint: You can use the .sort() method</i></b></p>"
   ]
  },
  {
   "cell_type": "code",
   "execution_count": 7,
   "metadata": {},
   "outputs": [
    {
     "name": "stdout",
     "output_type": "stream",
     "text": [
      "[1, 2, 3, 3, 4, 4, 5, 5, 6, 6, 7, 8, 10]\n",
      "[1, 2, 3, 3, 4, 4, 5, 5, 6, 6, 7, 8, 10]\n"
     ]
    }
   ],
   "source": [
    "list_1 = [1,2,3,4,5,6]\n",
    "list_2 = [3,4,5,6,7,8,10]\n",
    "\n",
    "\n",
    "## Solution 1 - use list concatenation and .sort() method\n",
    "\n",
    "def combine_and_sort(list_a, list_b):\n",
    "    \"\"\"\n",
    "        Take in two lists as parameters and cocatenate \n",
    "        them into a new list, sort that new list, and \n",
    "        then return the new sorted list.\n",
    "    \"\"\"\n",
    "    list_c = []\n",
    "\n",
    "    list_c = list_a + list_b\n",
    "    list_c.sort()\n",
    "\n",
    "    return list_c\n",
    "\n",
    "\n",
    "print(combine_and_sort(list_1, list_2))\n",
    "\n",
    "\n",
    "\n",
    "\n",
    "# Solution 2 - use .append() method and sorted() function\n",
    "\n",
    "def combine_and_sorted(list_a, list_b):\n",
    "    \"\"\"\n",
    "        Take in two lists as parameters, remove each element from the first \n",
    "        list, add each to the second list, and then return a sorted version \n",
    "        of the second list.\n",
    "    \"\"\"\n",
    "    while list_a:\n",
    "        popped_num = list_a.pop()\n",
    "        list_b.append(popped_num)\n",
    "\n",
    "    return sorted(list_b)\n",
    "\n",
    "\n",
    "print(combine_and_sorted(list_1, list_2))"
   ]
  }
 ],
 "metadata": {
  "kernelspec": {
   "display_name": "Python 3",
   "language": "python",
   "name": "python3"
  },
  "language_info": {
   "codemirror_mode": {
    "name": "ipython",
    "version": 3
   },
   "file_extension": ".py",
   "mimetype": "text/x-python",
   "name": "python",
   "nbconvert_exporter": "python",
   "pygments_lexer": "ipython3",
   "version": "3.11.1"
  },
  "vscode": {
   "interpreter": {
    "hash": "aa82987a71ca0339a52998cd22613b0c002bda8349fa32a0cb67ceec3936a2bf"
   }
  }
 },
 "nbformat": 4,
 "nbformat_minor": 2
}
